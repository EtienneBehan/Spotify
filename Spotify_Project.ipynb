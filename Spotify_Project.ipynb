{
 "cells": [
  {
   "cell_type": "markdown",
   "metadata": {},
   "source": [
    "# Spotify Analysis"
   ]
  },
  {
   "cell_type": "markdown",
   "metadata": {},
   "source": [
    "#### Import Libraries"
   ]
  },
  {
   "cell_type": "code",
   "execution_count": 318,
   "metadata": {},
   "outputs": [],
   "source": [
    "import pandas as pd\n",
    "import numpy as np\n",
    "import matplotlib.pyplot as plt"
   ]
  },
  {
   "cell_type": "markdown",
   "metadata": {},
   "source": [
    "#### Clean, Combine, and Print The Data"
   ]
  },
  {
   "cell_type": "code",
   "execution_count": 319,
   "metadata": {},
   "outputs": [],
   "source": [
    "stream0 = pd.read_csv('C:/Users/etien/Spotify Project/spotify_data/streaming0.txt')\n",
    "stream1 = pd.read_csv('C:/Users/etien/Spotify Project/spotify_data/streaming1.txt')\n",
    "stream2 = pd.read_csv('C:/Users/etien/Spotify Project/spotify_data/streaming2.txt')"
   ]
  },
  {
   "cell_type": "code",
   "execution_count": 320,
   "metadata": {},
   "outputs": [
    {
     "name": "stdout",
     "output_type": "stream",
     "text": [
      "       index           endTime           artistName  \\\n",
      "0          0  2020-03-26 01:43           Quinn XCII   \n",
      "1          1  2020-03-26 01:43      Chris Stapleton   \n",
      "2          2  2020-03-26 01:47              G Jones   \n",
      "3          3  2020-03-26 01:47         XXXTENTACION   \n",
      "4          4  2020-03-26 01:49           Mac Miller   \n",
      "...      ...               ...                  ...   \n",
      "21166   1166  2021-03-26 22:44                 fun.   \n",
      "21167   1167  2021-03-26 22:48         Current Joys   \n",
      "21168   1168  2021-03-26 22:53           Mac Miller   \n",
      "21169   1169  2021-03-26 22:57         Leon Bridges   \n",
      "21170   1170  2021-03-26 22:57  Of Monsters and Men   \n",
      "\n",
      "                               trackName  msPlayed  \n",
      "0                Another Day in Paradise     78251  \n",
      "1                      Tennessee Whiskey      8846  \n",
      "2           In Your Head - RL Grime Edit    177710  \n",
      "3                                changes      1710  \n",
      "4           Dang! (feat. Anderson .Paak)    144219  \n",
      "...                                  ...       ...  \n",
      "21166  Sight of the Sun - Single Version    210373  \n",
      "21167                               Kids    269142  \n",
      "21168                              Right    271312  \n",
      "21169   Beyond (feat. Luke Combs) - Live    246946  \n",
      "21170                    Slow And Steady      3126  \n",
      "\n",
      "[21171 rows x 5 columns]\n"
     ]
    }
   ],
   "source": [
    "data = pd.concat([stream0, stream1, stream2])\n",
    "data = data.reset_index()\n",
    "data = data.drop_duplicates()\n",
    "print(data)"
   ]
  },
  {
   "cell_type": "code",
   "execution_count": 321,
   "metadata": {},
   "outputs": [
    {
     "data": {
      "text/plain": [
       "numpy.int64"
      ]
     },
     "execution_count": 321,
     "metadata": {},
     "output_type": "execute_result"
    }
   ],
   "source": [
    "type(data['msPlayed'][0])"
   ]
  },
  {
   "cell_type": "markdown",
   "metadata": {},
   "source": [
    "#### New Columns For Times"
   ]
  },
  {
   "cell_type": "code",
   "execution_count": 322,
   "metadata": {},
   "outputs": [
    {
     "name": "stdout",
     "output_type": "stream",
     "text": [
      "[]\n",
      "[]\n"
     ]
    }
   ],
   "source": [
    "date = data['endTime']\n",
    "datelistened = []\n",
    "print(datelistened)\n",
    "\n",
    "Time_of_Day_Listened = data['endTime']\n",
    "time_of_day = []\n",
    "print(time_of_day)"
   ]
  },
  {
   "cell_type": "code",
   "execution_count": 323,
   "metadata": {},
   "outputs": [
    {
     "name": "stdout",
     "output_type": "stream",
     "text": [
      "21171\n",
      "21171\n"
     ]
    }
   ],
   "source": [
    "for x in data['endTime']:\n",
    "    datelistened.append(x[0:10])\n",
    "print(len(datelistened))\n",
    "\n",
    "for x in data['endTime']:\n",
    "    time_of_day.append(x[11:16])\n",
    "print(len(time_of_day))"
   ]
  },
  {
   "cell_type": "code",
   "execution_count": 324,
   "metadata": {},
   "outputs": [
    {
     "data": {
      "text/html": [
       "<div>\n",
       "<style scoped>\n",
       "    .dataframe tbody tr th:only-of-type {\n",
       "        vertical-align: middle;\n",
       "    }\n",
       "\n",
       "    .dataframe tbody tr th {\n",
       "        vertical-align: top;\n",
       "    }\n",
       "\n",
       "    .dataframe thead th {\n",
       "        text-align: right;\n",
       "    }\n",
       "</style>\n",
       "<table border=\"1\" class=\"dataframe\">\n",
       "  <thead>\n",
       "    <tr style=\"text-align: right;\">\n",
       "      <th></th>\n",
       "      <th>index</th>\n",
       "      <th>endTime</th>\n",
       "      <th>artistName</th>\n",
       "      <th>trackName</th>\n",
       "      <th>msPlayed</th>\n",
       "      <th>date</th>\n",
       "      <th>Time_of_Day_Listened</th>\n",
       "    </tr>\n",
       "  </thead>\n",
       "  <tbody>\n",
       "    <tr>\n",
       "      <th>0</th>\n",
       "      <td>0</td>\n",
       "      <td>2020-03-26 01:43</td>\n",
       "      <td>Quinn XCII</td>\n",
       "      <td>Another Day in Paradise</td>\n",
       "      <td>78251</td>\n",
       "      <td>2020-03-26</td>\n",
       "      <td>01:43</td>\n",
       "    </tr>\n",
       "    <tr>\n",
       "      <th>1</th>\n",
       "      <td>1</td>\n",
       "      <td>2020-03-26 01:43</td>\n",
       "      <td>Chris Stapleton</td>\n",
       "      <td>Tennessee Whiskey</td>\n",
       "      <td>8846</td>\n",
       "      <td>2020-03-26</td>\n",
       "      <td>01:43</td>\n",
       "    </tr>\n",
       "    <tr>\n",
       "      <th>2</th>\n",
       "      <td>2</td>\n",
       "      <td>2020-03-26 01:47</td>\n",
       "      <td>G Jones</td>\n",
       "      <td>In Your Head - RL Grime Edit</td>\n",
       "      <td>177710</td>\n",
       "      <td>2020-03-26</td>\n",
       "      <td>01:47</td>\n",
       "    </tr>\n",
       "    <tr>\n",
       "      <th>3</th>\n",
       "      <td>3</td>\n",
       "      <td>2020-03-26 01:47</td>\n",
       "      <td>XXXTENTACION</td>\n",
       "      <td>changes</td>\n",
       "      <td>1710</td>\n",
       "      <td>2020-03-26</td>\n",
       "      <td>01:47</td>\n",
       "    </tr>\n",
       "    <tr>\n",
       "      <th>4</th>\n",
       "      <td>4</td>\n",
       "      <td>2020-03-26 01:49</td>\n",
       "      <td>Mac Miller</td>\n",
       "      <td>Dang! (feat. Anderson .Paak)</td>\n",
       "      <td>144219</td>\n",
       "      <td>2020-03-26</td>\n",
       "      <td>01:49</td>\n",
       "    </tr>\n",
       "  </tbody>\n",
       "</table>\n",
       "</div>"
      ],
      "text/plain": [
       "   index           endTime       artistName                     trackName  \\\n",
       "0      0  2020-03-26 01:43       Quinn XCII       Another Day in Paradise   \n",
       "1      1  2020-03-26 01:43  Chris Stapleton             Tennessee Whiskey   \n",
       "2      2  2020-03-26 01:47          G Jones  In Your Head - RL Grime Edit   \n",
       "3      3  2020-03-26 01:47     XXXTENTACION                       changes   \n",
       "4      4  2020-03-26 01:49       Mac Miller  Dang! (feat. Anderson .Paak)   \n",
       "\n",
       "   msPlayed        date Time_of_Day_Listened  \n",
       "0     78251  2020-03-26                01:43  \n",
       "1      8846  2020-03-26                01:43  \n",
       "2    177710  2020-03-26                01:47  \n",
       "3      1710  2020-03-26                01:47  \n",
       "4    144219  2020-03-26                01:49  "
      ]
     },
     "execution_count": 324,
     "metadata": {},
     "output_type": "execute_result"
    }
   ],
   "source": [
    "data['date'] = datelistened\n",
    "data['Time_of_Day_Listened'] = time_of_day\n",
    "data.head(5)\n"
   ]
  },
  {
   "cell_type": "code",
   "execution_count": 325,
   "metadata": {},
   "outputs": [
    {
     "name": "stdout",
     "output_type": "stream",
     "text": [
      "[]\n",
      "[]\n"
     ]
    }
   ],
   "source": [
    "Minutes_Played = data['msPlayed']\n",
    "total_minutes = []\n",
    "print(total_minutes)\n",
    "\n",
    "Hours_Played = data['msPlayed']\n",
    "total_hours = []\n",
    "print(total_hours)\n"
   ]
  },
  {
   "cell_type": "code",
   "execution_count": 326,
   "metadata": {},
   "outputs": [
    {
     "data": {
      "text/html": [
       "<div>\n",
       "<style scoped>\n",
       "    .dataframe tbody tr th:only-of-type {\n",
       "        vertical-align: middle;\n",
       "    }\n",
       "\n",
       "    .dataframe tbody tr th {\n",
       "        vertical-align: top;\n",
       "    }\n",
       "\n",
       "    .dataframe thead th {\n",
       "        text-align: right;\n",
       "    }\n",
       "</style>\n",
       "<table border=\"1\" class=\"dataframe\">\n",
       "  <thead>\n",
       "    <tr style=\"text-align: right;\">\n",
       "      <th></th>\n",
       "      <th>index</th>\n",
       "      <th>endTime</th>\n",
       "      <th>artistName</th>\n",
       "      <th>trackName</th>\n",
       "      <th>msPlayed</th>\n",
       "      <th>date</th>\n",
       "      <th>Time_of_Day_Listened</th>\n",
       "      <th>Minutes_Played</th>\n",
       "      <th>Hours_Played</th>\n",
       "    </tr>\n",
       "  </thead>\n",
       "  <tbody>\n",
       "    <tr>\n",
       "      <th>0</th>\n",
       "      <td>0</td>\n",
       "      <td>2020-03-26 01:43</td>\n",
       "      <td>Quinn XCII</td>\n",
       "      <td>Another Day in Paradise</td>\n",
       "      <td>78251</td>\n",
       "      <td>2020-03-26</td>\n",
       "      <td>01:43</td>\n",
       "      <td>1.30</td>\n",
       "      <td>0.02</td>\n",
       "    </tr>\n",
       "    <tr>\n",
       "      <th>1</th>\n",
       "      <td>1</td>\n",
       "      <td>2020-03-26 01:43</td>\n",
       "      <td>Chris Stapleton</td>\n",
       "      <td>Tennessee Whiskey</td>\n",
       "      <td>8846</td>\n",
       "      <td>2020-03-26</td>\n",
       "      <td>01:43</td>\n",
       "      <td>0.15</td>\n",
       "      <td>0.00</td>\n",
       "    </tr>\n",
       "    <tr>\n",
       "      <th>2</th>\n",
       "      <td>2</td>\n",
       "      <td>2020-03-26 01:47</td>\n",
       "      <td>G Jones</td>\n",
       "      <td>In Your Head - RL Grime Edit</td>\n",
       "      <td>177710</td>\n",
       "      <td>2020-03-26</td>\n",
       "      <td>01:47</td>\n",
       "      <td>2.96</td>\n",
       "      <td>0.05</td>\n",
       "    </tr>\n",
       "    <tr>\n",
       "      <th>3</th>\n",
       "      <td>3</td>\n",
       "      <td>2020-03-26 01:47</td>\n",
       "      <td>XXXTENTACION</td>\n",
       "      <td>changes</td>\n",
       "      <td>1710</td>\n",
       "      <td>2020-03-26</td>\n",
       "      <td>01:47</td>\n",
       "      <td>0.03</td>\n",
       "      <td>0.00</td>\n",
       "    </tr>\n",
       "    <tr>\n",
       "      <th>4</th>\n",
       "      <td>4</td>\n",
       "      <td>2020-03-26 01:49</td>\n",
       "      <td>Mac Miller</td>\n",
       "      <td>Dang! (feat. Anderson .Paak)</td>\n",
       "      <td>144219</td>\n",
       "      <td>2020-03-26</td>\n",
       "      <td>01:49</td>\n",
       "      <td>2.40</td>\n",
       "      <td>0.04</td>\n",
       "    </tr>\n",
       "  </tbody>\n",
       "</table>\n",
       "</div>"
      ],
      "text/plain": [
       "   index           endTime       artistName                     trackName  \\\n",
       "0      0  2020-03-26 01:43       Quinn XCII       Another Day in Paradise   \n",
       "1      1  2020-03-26 01:43  Chris Stapleton             Tennessee Whiskey   \n",
       "2      2  2020-03-26 01:47          G Jones  In Your Head - RL Grime Edit   \n",
       "3      3  2020-03-26 01:47     XXXTENTACION                       changes   \n",
       "4      4  2020-03-26 01:49       Mac Miller  Dang! (feat. Anderson .Paak)   \n",
       "\n",
       "   msPlayed        date Time_of_Day_Listened  Minutes_Played  Hours_Played  \n",
       "0     78251  2020-03-26                01:43            1.30          0.02  \n",
       "1      8846  2020-03-26                01:43            0.15          0.00  \n",
       "2    177710  2020-03-26                01:47            2.96          0.05  \n",
       "3      1710  2020-03-26                01:47            0.03          0.00  \n",
       "4    144219  2020-03-26                01:49            2.40          0.04  "
      ]
     },
     "execution_count": 326,
     "metadata": {},
     "output_type": "execute_result"
    }
   ],
   "source": [
    "for x in data['msPlayed']:\n",
    "    x = round(x/60000,2)\n",
    "    total_minutes.append(x)\n",
    "    \n",
    "data['Minutes_Played'] = total_minutes\n",
    "\n",
    "\n",
    "for x in data['Minutes_Played']:\n",
    "    x = round(x/60,2)\n",
    "    total_hours.append(x)\n",
    "    \n",
    "data['Hours_Played'] = total_hours\n",
    "\n",
    "data.head(5)"
   ]
  },
  {
   "cell_type": "markdown",
   "metadata": {},
   "source": [
    "#### Value Counts For Top Artists"
   ]
  },
  {
   "cell_type": "code",
   "execution_count": 327,
   "metadata": {},
   "outputs": [],
   "source": [
    "timesPlayed = data['artistName']"
   ]
  },
  {
   "cell_type": "code",
   "execution_count": 328,
   "metadata": {},
   "outputs": [
    {
     "data": {
      "text/plain": [
       "Seven Lions           1153\n",
       "The 1975               920\n",
       "Excision               826\n",
       "Mac Miller             712\n",
       "ILLENIUM               529\n",
       "                      ... \n",
       "Charmaine D'Avis         1\n",
       "Jackson Browne           1\n",
       "Jazz Fruits Music        1\n",
       "Giné                     1\n",
       "Taking Back Sunday       1\n",
       "Name: artistName, Length: 2081, dtype: int64"
      ]
     },
     "execution_count": 328,
     "metadata": {},
     "output_type": "execute_result"
    }
   ],
   "source": [
    "data['artistName'].value_counts()"
   ]
  },
  {
   "cell_type": "code",
   "execution_count": 329,
   "metadata": {},
   "outputs": [
    {
     "data": {
      "text/plain": [
       "Higher Love                                                             70\n",
       "Senseless (feat. Tyler Graves)                                          48\n",
       "Another Me (with Dylan Matthew)                                         45\n",
       "Remember                                                                42\n",
       "The Blood                                                               37\n",
       "                                                                        ..\n",
       "Lose Myself                                                              1\n",
       "Island (feat. Nevve) - Dimibo Remix                                      1\n",
       "Higher Love (feat. Paul Meany) - Seven Lions & Jason Ross 1999 Remix     1\n",
       "Worlds Apart (feat. Kerli) - Seven Lions 1999 Remix                      1\n",
       "Worlds Apart - Seven Lions 1999 Remix                                    1\n",
       "Name: trackName, Length: 67, dtype: int64"
      ]
     },
     "execution_count": 329,
     "metadata": {},
     "output_type": "execute_result"
    }
   ],
   "source": [
    "data['trackName'][data['artistName'] == 'Seven Lions'].value_counts()"
   ]
  },
  {
   "cell_type": "code",
   "execution_count": 330,
   "metadata": {},
   "outputs": [
    {
     "data": {
      "text/plain": [
       "Robbers                            47\n",
       "Fallingforyou                      42\n",
       "Menswear                           42\n",
       "If You’re Too Shy (Let Me Know)    39\n",
       "The Birthday Party                 38\n",
       "                                   ..\n",
       "Sex - EP Version                    1\n",
       "An Encounter                        1\n",
       "Intro / Set3                        1\n",
       "Undo                                1\n",
       "Settle Down - Dan Lissvik Remix     1\n",
       "Name: trackName, Length: 89, dtype: int64"
      ]
     },
     "execution_count": 330,
     "metadata": {},
     "output_type": "execute_result"
    }
   ],
   "source": [
    "data['trackName'][data['artistName'] == 'The 1975'].value_counts()"
   ]
  },
  {
   "cell_type": "code",
   "execution_count": 331,
   "metadata": {},
   "outputs": [
    {
     "data": {
      "text/plain": [
       "Oxygen                                           33\n",
       "Lost Lands 2019 Mix                              29\n",
       "Throwin' Elbows (Getter & Virtual Riot Remix)    28\n",
       "Evolution                                        25\n",
       "Rumble                                           24\n",
       "                                                 ..\n",
       "With You                                          1\n",
       "Another Me                                        1\n",
       "Harambe (Barely Alive Remix)                      1\n",
       "Evolution - Samplifire Remix                      1\n",
       "Africa                                            1\n",
       "Name: trackName, Length: 83, dtype: int64"
      ]
     },
     "execution_count": 331,
     "metadata": {},
     "output_type": "execute_result"
    }
   ],
   "source": [
    "data['trackName'][data['artistName'] == 'Excision'].value_counts()"
   ]
  },
  {
   "cell_type": "code",
   "execution_count": 332,
   "metadata": {},
   "outputs": [
    {
     "data": {
      "text/plain": [
       "Circles                     56\n",
       "Surf                        50\n",
       "Blue World                  38\n",
       "Objects in the Mirror       36\n",
       "Good News                   35\n",
       "                            ..\n",
       "Loitering                    1\n",
       "Paper Route                  1\n",
       "Frick Park Market            1\n",
       "Party On Fifth Ave.          1\n",
       "Goosebumpz - Bonus Track     1\n",
       "Name: trackName, Length: 111, dtype: int64"
      ]
     },
     "execution_count": 332,
     "metadata": {},
     "output_type": "execute_result"
    }
   ],
   "source": [
    "data['trackName'][data['artistName'] == 'Mac Miller'].value_counts()"
   ]
  },
  {
   "cell_type": "code",
   "execution_count": 333,
   "metadata": {},
   "outputs": [
    {
     "data": {
      "text/plain": [
       "Good Things Fall Apart vs. Sad Songs (With Said The Sky feat. Annika Wells)    77\n",
       "Lonely (with Chandler Leighton)                                                56\n",
       "Angel - Lonely Prelude                                                         44\n",
       "Feel Something (With I Prevail)                                                37\n",
       "Sad Songs (& Said The Sky with Annika Wells)                                   31\n",
       "                                                                               ..\n",
       "Sad Songs (with Said The Sky & Annika Wells) [CloudNone Remix]                  1\n",
       "I Care - Intro                                                                  1\n",
       "Without You - Ryan Exley Remix                                                  1\n",
       "Lonely (with Chandler Leighton) [Friction Remix]                                1\n",
       "Bring Forth The Pressure                                                        1\n",
       "Name: trackName, Length: 69, dtype: int64"
      ]
     },
     "execution_count": 333,
     "metadata": {},
     "output_type": "execute_result"
    }
   ],
   "source": [
    "data['trackName'][data['artistName'] == 'ILLENIUM'].value_counts()"
   ]
  },
  {
   "cell_type": "markdown",
   "metadata": {},
   "source": [
    "#### New Columns For Times"
   ]
  },
  {
   "cell_type": "code",
   "execution_count": 334,
   "metadata": {},
   "outputs": [],
   "source": [
    "from datetime import datetime"
   ]
  },
  {
   "cell_type": "code",
   "execution_count": 335,
   "metadata": {},
   "outputs": [
    {
     "data": {
      "text/html": [
       "<div>\n",
       "<style scoped>\n",
       "    .dataframe tbody tr th:only-of-type {\n",
       "        vertical-align: middle;\n",
       "    }\n",
       "\n",
       "    .dataframe tbody tr th {\n",
       "        vertical-align: top;\n",
       "    }\n",
       "\n",
       "    .dataframe thead th {\n",
       "        text-align: right;\n",
       "    }\n",
       "</style>\n",
       "<table border=\"1\" class=\"dataframe\">\n",
       "  <thead>\n",
       "    <tr style=\"text-align: right;\">\n",
       "      <th></th>\n",
       "      <th>index</th>\n",
       "      <th>artistName</th>\n",
       "      <th>trackName</th>\n",
       "      <th>date</th>\n",
       "      <th>Time_of_Day_Listened</th>\n",
       "      <th>Minutes_Played</th>\n",
       "      <th>Hours_Played</th>\n",
       "      <th>Month</th>\n",
       "      <th>Day</th>\n",
       "      <th>Year</th>\n",
       "    </tr>\n",
       "  </thead>\n",
       "  <tbody>\n",
       "    <tr>\n",
       "      <th>0</th>\n",
       "      <td>0</td>\n",
       "      <td>Quinn XCII</td>\n",
       "      <td>Another Day in Paradise</td>\n",
       "      <td>2020-03-26</td>\n",
       "      <td>01:43</td>\n",
       "      <td>1.30</td>\n",
       "      <td>0.02</td>\n",
       "      <td>Mar</td>\n",
       "      <td>26</td>\n",
       "      <td>2020</td>\n",
       "    </tr>\n",
       "    <tr>\n",
       "      <th>1</th>\n",
       "      <td>1</td>\n",
       "      <td>Chris Stapleton</td>\n",
       "      <td>Tennessee Whiskey</td>\n",
       "      <td>2020-03-26</td>\n",
       "      <td>01:43</td>\n",
       "      <td>0.15</td>\n",
       "      <td>0.00</td>\n",
       "      <td>Mar</td>\n",
       "      <td>26</td>\n",
       "      <td>2020</td>\n",
       "    </tr>\n",
       "    <tr>\n",
       "      <th>2</th>\n",
       "      <td>2</td>\n",
       "      <td>G Jones</td>\n",
       "      <td>In Your Head - RL Grime Edit</td>\n",
       "      <td>2020-03-26</td>\n",
       "      <td>01:47</td>\n",
       "      <td>2.96</td>\n",
       "      <td>0.05</td>\n",
       "      <td>Mar</td>\n",
       "      <td>26</td>\n",
       "      <td>2020</td>\n",
       "    </tr>\n",
       "    <tr>\n",
       "      <th>3</th>\n",
       "      <td>3</td>\n",
       "      <td>XXXTENTACION</td>\n",
       "      <td>changes</td>\n",
       "      <td>2020-03-26</td>\n",
       "      <td>01:47</td>\n",
       "      <td>0.03</td>\n",
       "      <td>0.00</td>\n",
       "      <td>Mar</td>\n",
       "      <td>26</td>\n",
       "      <td>2020</td>\n",
       "    </tr>\n",
       "    <tr>\n",
       "      <th>4</th>\n",
       "      <td>4</td>\n",
       "      <td>Mac Miller</td>\n",
       "      <td>Dang! (feat. Anderson .Paak)</td>\n",
       "      <td>2020-03-26</td>\n",
       "      <td>01:49</td>\n",
       "      <td>2.40</td>\n",
       "      <td>0.04</td>\n",
       "      <td>Mar</td>\n",
       "      <td>26</td>\n",
       "      <td>2020</td>\n",
       "    </tr>\n",
       "  </tbody>\n",
       "</table>\n",
       "</div>"
      ],
      "text/plain": [
       "   index       artistName                     trackName       date  \\\n",
       "0      0       Quinn XCII       Another Day in Paradise 2020-03-26   \n",
       "1      1  Chris Stapleton             Tennessee Whiskey 2020-03-26   \n",
       "2      2          G Jones  In Your Head - RL Grime Edit 2020-03-26   \n",
       "3      3     XXXTENTACION                       changes 2020-03-26   \n",
       "4      4       Mac Miller  Dang! (feat. Anderson .Paak) 2020-03-26   \n",
       "\n",
       "  Time_of_Day_Listened  Minutes_Played  Hours_Played Month  Day  Year  \n",
       "0                01:43            1.30          0.02   Mar   26  2020  \n",
       "1                01:43            0.15          0.00   Mar   26  2020  \n",
       "2                01:47            2.96          0.05   Mar   26  2020  \n",
       "3                01:47            0.03          0.00   Mar   26  2020  \n",
       "4                01:49            2.40          0.04   Mar   26  2020  "
      ]
     },
     "execution_count": 335,
     "metadata": {},
     "output_type": "execute_result"
    }
   ],
   "source": [
    "data['date'] = pd.to_datetime(data['date'])\n",
    "data['Month'] = data['date'].dt.strftime('%b')\n",
    "data['Day'] = data['date'].dt.day\n",
    "data['Year'] = data['date'].dt.year\n",
    "data = data.drop(['msPlayed', 'endTime'], axis=1)\n",
    "data.head(5)"
   ]
  },
  {
   "cell_type": "markdown",
   "metadata": {},
   "source": [
    "#### Variable for Minutes and Hours Listened"
   ]
  },
  {
   "cell_type": "code",
   "execution_count": 336,
   "metadata": {},
   "outputs": [
    {
     "name": "stdout",
     "output_type": "stream",
     "text": [
      "30690.68 507.20000000000005\n"
     ]
    }
   ],
   "source": [
    "Total_Minutes_Played = data['Minutes_Played'].sum()\n",
    "Total_Hours_Played = data['Hours_Played'].sum()\n",
    "print(Total_Minutes_Played, Total_Hours_Played)"
   ]
  },
  {
   "cell_type": "markdown",
   "metadata": {},
   "source": [
    "#### Artist Graph"
   ]
  },
  {
   "cell_type": "code",
   "execution_count": 337,
   "metadata": {},
   "outputs": [],
   "source": [
    "Num_Artists = data['artistName'].nunique()\n",
    "Top_Artist = data['artistName'].value_counts().index[0]\n",
    "Top_Artist_Hours = data['artistName'].value_counts()[0]\n",
    "Top_10_Artists = data['artistName'].value_counts().index[:10]\n",
    "Top_10_Artist_Plays = data['artistName'].value_counts()[:10]"
   ]
  },
  {
   "cell_type": "code",
   "execution_count": 338,
   "metadata": {},
   "outputs": [],
   "source": [
    "def ArtistGraph():\n",
    "    plt.figure(figsize=(12, 4))\n",
    "    plt.title('Top 10 Artists')\n",
    "    plt.bar(Top_10_Artists,Top_10_Artist_Plays)\n",
    "    plt.tight_layout()\n",
    "    plt.xticks(rotation = 75)\n",
    "    plt.xlabel('Artist Names')\n",
    "    plt.ylabel('Play Counts')\n",
    "    plt.show()"
   ]
  },
  {
   "cell_type": "code",
   "execution_count": null,
   "metadata": {},
   "outputs": [],
   "source": []
  },
  {
   "cell_type": "markdown",
   "metadata": {},
   "source": [
    "#### Song Graph"
   ]
  },
  {
   "cell_type": "code",
   "execution_count": 339,
   "metadata": {},
   "outputs": [],
   "source": [
    "data['Artist_Track'] = data['trackName']+' - ' +data['artistName']\n",
    "Num_songs = data['Artist_Track'].nunique()\n",
    "Top_Song_Plays = data['Artist_Track'].value_counts()[0]\n",
    "Top_Song = data['Artist_Track'].value_counts().index[0]\n",
    "Top_10_Songs = data['Artist_Track'].value_counts().index[:10]\n",
    "Top_10_Songs_Plays = data['Artist_Track'].value_counts()[:10]"
   ]
  },
  {
   "cell_type": "code",
   "execution_count": 340,
   "metadata": {},
   "outputs": [],
   "source": [
    "def SongsGraph():\n",
    "    plt.figure(figsize=(12, 4))\n",
    "    plt.title('Top 10 Songs')\n",
    "    plt.bar(Top_10_Songs,Top_10_Songs_Plays)\n",
    "    plt.tight_layout()\n",
    "    plt.xticks(rotation = 75)\n",
    "    plt.xlabel('Song Names')\n",
    "    plt.ylabel('Play Counts')\n",
    "    plt.show()"
   ]
  },
  {
   "cell_type": "code",
   "execution_count": null,
   "metadata": {},
   "outputs": [],
   "source": []
  },
  {
   "cell_type": "markdown",
   "metadata": {},
   "source": [
    "#### Time by Artist"
   ]
  },
  {
   "cell_type": "code",
   "execution_count": 341,
   "metadata": {},
   "outputs": [],
   "source": [
    "Artist_Minutes = data[['artistName','Hours_Played']]\n",
    "Artist_Minutes.columns = ['artistName','Hours_Played']\n",
    "Artist_Minutes = Artist_Minutes.groupby('artistName').sum()\n",
    "My_Top_10_Hours = Artist_Minutes.sort_values('Hours_Played',ascending = False)[:10]\n"
   ]
  },
  {
   "cell_type": "code",
   "execution_count": 342,
   "metadata": {},
   "outputs": [],
   "source": [
    "def HoursbyArtist():\n",
    "    plt.figure(figsize=(12, 4))\n",
    "    plt.title('Artist and Time Listened')\n",
    "    plt.bar(My_Top_10_Hours.index,My_Top_10_Hours['Hours_Played'])\n",
    "    plt.tight_layout()\n",
    "    plt.xticks(rotation = 75)\n",
    "    plt.xlabel('Artist Names')\n",
    "    plt.ylabel('Hours Listened')\n",
    "    plt.show()"
   ]
  },
  {
   "cell_type": "code",
   "execution_count": null,
   "metadata": {},
   "outputs": [],
   "source": []
  },
  {
   "cell_type": "code",
   "execution_count": 345,
   "metadata": {},
   "outputs": [],
   "source": [
    "Start = min(data['date'])\n",
    "End = max(data['date'])"
   ]
  },
  {
   "cell_type": "code",
   "execution_count": 346,
   "metadata": {},
   "outputs": [
    {
     "name": "stdout",
     "output_type": "stream",
     "text": [
      "From 2020-03-26 00:00:00 to 2021-03-26 00:00:00 I listened to 507.2 hours of music.\n",
      "\n",
      "During this time I listened to,\n",
      "2081 different artists and 5923 different songs\n",
      "\n",
      "My number one artist was Seven Lions, as I listened to their songs a total of 1153 times.\n",
      "My favorite song was Good Things Fall Apart vs. Sad Songs (With Said The Sky feat. Annika Wells) - ILLENIUM, as I listened to it a grind total of 77 times!\n",
      "\n",
      "Here's a graph of my top 10 artists:\n"
     ]
    },
    {
     "data": {
      "image/png": "[encoded data removed]",
      "text/plain": [
       "<Figure size 864x288 with 1 Axes>"
      ]
     },
     "metadata": {
      "needs_background": "light"
     },
     "output_type": "display_data"
    },
    {
     "name": "stdout",
     "output_type": "stream",
     "text": [
      "None\n",
      "\n",
      "Here's a graph of my top 10 songs:\n"
     ]
    },
    {
     "data": {
      "image/png": "[encoded data removed]",
      "text/plain": [
       "<Figure size 864x288 with 1 Axes>"
      ]
     },
     "metadata": {
      "needs_background": "light"
     },
     "output_type": "display_data"
    },
    {
     "name": "stdout",
     "output_type": "stream",
     "text": [
      "None\n",
      "\n",
      "This is how long I listened to each top artist:\n"
     ]
    },
    {
     "data": {
      "image/png": "[encoded data removed]",
      "text/plain": [
       "<Figure size 864x288 with 1 Axes>"
      ]
     },
     "metadata": {
      "needs_background": "light"
     },
     "output_type": "display_data"
    },
    {
     "name": "stdout",
     "output_type": "stream",
     "text": [
      "None\n"
     ]
    }
   ],
   "source": [
    "print(f'From {(Start)} to {(End)} I listened to {round(Total_Hours_Played,2)} hours of music.')\n",
    "print('')\n",
    "print('During this time I listened to,')\n",
    "print(f'{Num_Artists} different artists and {Num_songs} different songs')\n",
    "print('')\n",
    "print(f'My number one artist was {Top_Artist}, as I listened to their songs a total of {Top_Artist_Hours} times.')\n",
    "print(f'My favorite song was {Top_Song}, as I listened to it a grand total of {Top_Song_Plays} times!')\n",
    "print('')\n",
    "print('Here\\'s a graph of my top 10 artists:')\n",
    "print(ArtistGraph())\n",
    "print('')\n",
    "print('Here\\'s a graph of my top 10 songs:')\n",
    "print(SongsGraph())\n",
    "print('')\n",
    "print('This is how long I listened to each top artist:')\n",
    "print(HoursbyArtist())\n"
   ]
  },
  {
   "cell_type": "code",
   "execution_count": null,
   "metadata": {},
   "outputs": [],
   "source": []
  }
 ],
 "metadata": {
  "kernelspec": {
   "display_name": "Python 3",
   "language": "python",
   "name": "python3"
  },
  "language_info": {
   "codemirror_mode": {
    "name": "ipython",
    "version": 3
   },
   "file_extension": ".py",
   "mimetype": "text/x-python",
   "name": "python",
   "nbconvert_exporter": "python",
   "pygments_lexer": "ipython3",
   "version": "3.8.5"
  }
 },
 "nbformat": 4,
 "nbformat_minor": 4
}
